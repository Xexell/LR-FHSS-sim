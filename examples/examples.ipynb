{
 "cells": [
  {
   "cell_type": "code",
   "execution_count": null,
   "metadata": {},
   "outputs": [],
   "source": [
    "from lrfhss.runSim import *\n",
    "import time\n",
    "from joblib import Parallel, delayed\n",
    "import numpy as np\n",
    "import matplotlib.pyplot as plt\n",
    "import scipy as sp\n",
    "import pickle\n",
    "import pandas as pd\n",
    "import os"
   ]
  },
  {
   "cell_type": "markdown",
   "metadata": {},
   "source": [
    "# Example 1: Success Probability versus Number of Nodes\n",
    "\n",
    "Here is a simple example on how to run the simulator using most default input parameter from the class Settings. This is defined in the file runSim, which uses from the simulator classes to create the simulation environment. You can check the file to modified or create you own modified version.\n",
    "\n",
    "We run the simulation for several different number of devices, and also run it 5 times and get the average and standard deviation of the results. The data is stored in a pandas Dataframe and saved on a .data file."
   ]
  },
  {
   "cell_type": "code",
   "execution_count": null,
   "metadata": {},
   "outputs": [],
   "source": [
    "#Number of different number of nodes points (each simulation takes one different)\n",
    "nNodes_points = 20\n",
    "#Mininum amount of nodes\n",
    "nNodes_min = 1000\n",
    "#Maximum amount of nodes\n",
    "nNodes_max = 200000\n",
    "#Number of nodes is divided by 8, as we are simulating one of the 8 grid.\n",
    "#As they are random selected, it is a very good approximation to consider one of them only, and it decreases the simulation time.\n",
    "#In the end, we multiply this array by 8 if we want to consider the technology total capacity.\n",
    "nNodes = np.linspace(nNodes_min, nNodes_max, nNodes_points, dtype=int)//8\n",
    "#Number of simulation loops for each configuration.\n",
    "loops = 6\n",
    "\n",
    "start = time.perf_counter()\n",
    "success = []\n",
    "std = []\n",
    "#For each number of nodes point, run the simulation \"loops\" times\n",
    "for n in nNodes:\n",
    "    #For each nNodes, create a new settings object with the proper input parameter\n",
    "    s = Settings(number_nodes = n)\n",
    "    #This line runs the simulation loops in paralel, using n_jobs as the number of threads generated.\n",
    "    #Consider using a number according to the amount of reseources available to your machine to avoid crashing your system.\n",
    "    results = Parallel(n_jobs=8) (delayed(run_sim)(s, seed = seed) for seed in range(0,loops))\n",
    "    #At the moment we only get the network outage probability as results and append the mean of the loops (for better accuracy) to a list.\n",
    "    success.append(np.mean(results))\n",
    "    std.append(np.std(results))\n",
    "print(f\"The simulation lasted {time.perf_counter()-start} seconds.\")\n",
    "\n",
    "#Saving results on a file\n",
    "df = pd.DataFrame({'Success': success, 'Std': std}, index = nNodes)\n",
    "file = open('example_1.data', 'wb')\n",
    "pickle.dump(df, file)\n",
    "file.close()"
   ]
  },
  {
   "cell_type": "code",
   "execution_count": null,
   "metadata": {},
   "outputs": [],
   "source": [
    "example_1 = pd.read_pickle('example_1.data')"
   ]
  },
  {
   "cell_type": "markdown",
   "metadata": {},
   "source": [
    "# Example 2: Enabling SIC\n",
    "\n",
    "Now we run the same simulation setup as above, but we enable SIC at the receiver with default parameters"
   ]
  },
  {
   "cell_type": "code",
   "execution_count": null,
   "metadata": {},
   "outputs": [],
   "source": [
    "#Number of different number of nodes points (each simulation takes one different)\n",
    "nNodes_points = 20\n",
    "#Mininum amount of nodes\n",
    "nNodes_min = 1000\n",
    "#Maximum amount of nodes\n",
    "nNodes_max = 200000\n",
    "#Number of nodes is divided by 8, as we are simulating one of the 8 grid.\n",
    "#As they are random selected, it is a very good approximation to consider one of them only, and it decreases the simulation time.\n",
    "#In the end, we multiply this array by 8 if we want to consider the technology total capacity.\n",
    "nNodes = np.linspace(nNodes_min, nNodes_max, nNodes_points, dtype=int)//8\n",
    "#Number of simulation loops for each configuration.\n",
    "loops = 6\n",
    "\n",
    "start = time.perf_counter()\n",
    "success = []\n",
    "std = []\n",
    "#For each number of nodes point, run the simulation \"loops\" times\n",
    "for n in nNodes:\n",
    "    #For each nNodes, create a new settings object with the proper input parameter\n",
    "    s = Settings(number_nodes = n, sic=True)\n",
    "    #This line runs the simulation loops in paralel, using n_jobs as the number of threads generated.\n",
    "    #Consider using a number according to the amount of reseources available to your machine to avoid crashing your system.\n",
    "    results = Parallel(n_jobs=8) (delayed(run_sim)(s, seed = seed) for seed in range(0,loops))\n",
    "    #At the moment we only get the network outage probability as results and append the mean of the loops (for better accuracy) to a list.\n",
    "    success.append(np.mean(results))\n",
    "    std.append(np.std(results))\n",
    "print(f\"The simulation lasted {time.perf_counter()-start} seconds.\")\n",
    "\n",
    "#Saving results on a file\n",
    "df = pd.DataFrame({'Success': success, 'Std': std}, index = nNodes)\n",
    "file = open('example_2.data', 'wb')\n",
    "pickle.dump(df, file)\n",
    "file.close()"
   ]
  },
  {
   "cell_type": "code",
   "execution_count": null,
   "metadata": {},
   "outputs": [],
   "source": [
    "example_2 = pd.read_pickle('example_2.data')"
   ]
  },
  {
   "cell_type": "markdown",
   "metadata": {},
   "source": [
    "# Plotting the examples"
   ]
  },
  {
   "cell_type": "code",
   "execution_count": null,
   "metadata": {},
   "outputs": [],
   "source": [
    "plt.figure(figsize=(15,9))\n",
    "plt.plot(nNodes*8, example_1['Success'],color='red')\n",
    "plt.plot(nNodes*8, example_2['Success'],color='blue')\n",
    "plt.xlabel(\"Number of nodes\")\n",
    "plt.ylabel(\"Average packet delivery rate\")\n",
    "plt.grid()\n",
    "plt.show()"
   ]
  }
 ],
 "metadata": {
  "kernelspec": {
   "display_name": "venv",
   "language": "python",
   "name": "python3"
  },
  "language_info": {
   "codemirror_mode": {
    "name": "ipython",
    "version": 3
   },
   "file_extension": ".py",
   "mimetype": "text/x-python",
   "name": "python",
   "nbconvert_exporter": "python",
   "pygments_lexer": "ipython3",
   "version": "3.11.4"
  },
  "orig_nbformat": 4
 },
 "nbformat": 4,
 "nbformat_minor": 2
}
