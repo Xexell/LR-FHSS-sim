{
 "cells": [
  {
   "cell_type": "code",
   "execution_count": 1,
   "metadata": {},
   "outputs": [],
   "source": [
    "from runSim import run_sim\n",
    "import time\n",
    "from joblib import Parallel, delayed\n",
    "import numpy as np\n",
    "import simpy\n"
   ]
  },
  {
   "cell_type": "code",
   "execution_count": 2,
   "metadata": {},
   "outputs": [
    {
     "name": "stdout",
     "output_type": "stream",
     "text": [
      "The simulation lasted 66.08293499999996 seconds.\n"
     ]
    }
   ],
   "source": [
    "nNodes = (np.array([50000, 100000, 150000, 200000])/8).astype(int)\n",
    "simTime = 60*60\n",
    "loops = 1\n",
    "\n",
    "start = time.perf_counter()\n",
    "success = []\n",
    "for n in nNodes:\n",
    "    results = Parallel(n_jobs=4) (delayed(run_sim)(n, simTime, seed) for seed in range(0,loops))\n",
    "    success.append(np.mean(results))\n",
    "\n",
    "print(f\"The simulation lasted {time.perf_counter()-start} seconds.\")\n"
   ]
  },
  {
   "cell_type": "code",
   "execution_count": 24,
   "metadata": {},
   "outputs": [
    {
     "data": {
      "image/png": "[encoded data removed]",
      "text/plain": [
       "<Figure size 432x288 with 1 Axes>"
      ]
     },
     "metadata": {
      "needs_background": "light"
     },
     "output_type": "display_data"
    }
   ],
   "source": [
    "import matplotlib.pyplot as plt\n",
    "\n",
    "plt.vlines(nNodes*8, ymin = 0, ymax = success)\n",
    "plt.grid()\n",
    "plt.show()\n"
   ]
  }
 ],
 "metadata": {
  "kernelspec": {
   "display_name": "venv",
   "language": "python",
   "name": "python3"
  },
  "language_info": {
   "codemirror_mode": {
    "name": "ipython",
    "version": 3
   },
   "file_extension": ".py",
   "mimetype": "text/x-python",
   "name": "python",
   "nbconvert_exporter": "python",
   "pygments_lexer": "ipython3",
   "version": "3.10.11"
  },
  "orig_nbformat": 4
 },
 "nbformat": 4,
 "nbformat_minor": 2
}
