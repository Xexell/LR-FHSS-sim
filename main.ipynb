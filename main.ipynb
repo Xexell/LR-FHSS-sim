{
 "cells": [
  {
   "cell_type": "code",
   "execution_count": null,
   "metadata": {},
   "outputs": [],
   "source": [
    "from runSim import run_sim\n",
    "import time\n",
    "from joblib import Parallel, delayed\n",
    "import numpy as np\n",
    "import matplotlib.pyplot as plt"
   ]
  },
  {
   "cell_type": "code",
   "execution_count": null,
   "metadata": {},
   "outputs": [],
   "source": [
    "#Number of different number of nodes points (each simulation takes one different)\n",
    "nNodes_points = 20\n",
    "#Mininum amount of nodes\n",
    "nNodes_min = 1000\n",
    "#Maximum amount of nodes\n",
    "nNodes_max = 100000\n",
    "#Number of nodes is divided by 8, as we are simulating one of the 8 grid.\n",
    "#As they are random selected, it is a very good approximation to consider one of them only, and it decreases the simulation time.\n",
    "#In the end, we multiply this array by 8 if we want to consider the technology total capacity.\n",
    "nNodes = np.linspace(nNodes_min, nNodes_max, nNodes_points, dtype=int)//8\n",
    "#Simulation time in seconds\n",
    "simTime = 60*60\n",
    "#Number of simulation loops for each configuration.\n",
    "loops = 2\n",
    "\n",
    "start = time.perf_counter()\n",
    "success = []\n",
    "#For each number of nodes point, run the simulation \"loops\" times\n",
    "for n in nNodes:\n",
    "    #This line runs the simulation loops in paralel, using n_jobs as the number of threads generated.\n",
    "    #Consider using a number according to the amount of reseources available to your machine to avoid crashing your system.\n",
    "    results = Parallel(n_jobs=2) (delayed(run_sim)(n, simTime, seed, sic=False) for seed in range(0,loops))\n",
    "    #At the moment we only get the network outage probability as results and append the mean of the loops (for better accuracy) to a list.\n",
    "    success.append(np.mean(results))\n",
    "\n",
    "np.array(success).tofile('success.csv',sep=',')\n",
    "print(f\"The simulation lasted {time.perf_counter()-start} seconds.\")\n"
   ]
  },
  {
   "cell_type": "code",
   "execution_count": null,
   "metadata": {},
   "outputs": [],
   "source": [
    "#Number of different number of nodes points (each simulation takes one different)\n",
    "nNodes_points = 20\n",
    "#Mininum amount of nodes\n",
    "nNodes_min = 1000\n",
    "#Maximum amount of nodes\n",
    "nNodes_max = 100000\n",
    "#Number of nodes is divided by 8, as we are simulating one of the 8 grid.\n",
    "#As they are random selected, it is a very good approximation to consider one of them only, and it decreases the simulation time.\n",
    "#In the end, we multiply this array by 8 if we want to consider the technology total capacity.\n",
    "nNodes = np.linspace(nNodes_min, nNodes_max, nNodes_points, dtype=int)//8\n",
    "#Simulation time in seconds\n",
    "simTime = 60*60\n",
    "#Number of simulation loops for each configuration.\n",
    "loops = 2\n",
    "\n",
    "start = time.perf_counter()\n",
    "success = []\n",
    "#For each number of nodes point, run the simulation \"loops\" times\n",
    "for n in nNodes:\n",
    "    #This line runs the simulation loops in paralel, using n_jobs as the number of threads generated.\n",
    "    #Consider using a number according to the amount of reseources available to your machine to avoid crashing your system.\n",
    "    results = Parallel(n_jobs=2) (delayed(run_sim)(n, simTime, seed, sic=True) for seed in range(0,loops))\n",
    "    #At the moment we only get the network outage probability as results and append the mean of the loops (for better accuracy) to a list.\n",
    "    success.append(np.mean(results))\n",
    "\n",
    "np.array(success).tofile('success_sic.csv',sep=',')\n",
    "print(f\"The simulation lasted {time.perf_counter()-start} seconds.\")\n"
   ]
  },
  {
   "cell_type": "code",
   "execution_count": null,
   "metadata": {},
   "outputs": [],
   "source": [
    "success_sic = np.fromfile('success_sic.csv',sep=',')\n",
    "success = np.fromfile('success.csv',sep=',')"
   ]
  },
  {
   "cell_type": "code",
   "execution_count": null,
   "metadata": {},
   "outputs": [],
   "source": [
    "#Just a very simple vertical line plot\n",
    "plt.vlines(nNodes*8, ymin = 0, ymax = success_sic, color='red')\n",
    "plt.vlines(nNodes*8, ymin = 0, ymax = success, color='blue')\n",
    "plt.grid()\n",
    "plt.legend(['SIC', 'Standard'])\n",
    "plt.xlabel(\"Number of nodes\")\n",
    "plt.ylabel(\"Network average success probability\")\n",
    "plt.show()"
   ]
  },
  {
   "cell_type": "code",
   "execution_count": null,
   "metadata": {},
   "outputs": [],
   "source": [
    "#Another example of plot, now making it an interpolated line between the points\n",
    "\n",
    "plt.plot(nNodes*8, success_sic,color='red')\n",
    "plt.plot(nNodes*8, success,color='blue')\n",
    "plt.grid()\n",
    "plt.legend(['SIC', 'Standard'])\n",
    "plt.xlabel(\"Number of nodes\")\n",
    "plt.ylabel(\"Network average success probability\")\n",
    "plt.show()"
   ]
  }
 ],
 "metadata": {
  "kernelspec": {
   "display_name": "venv",
   "language": "python",
   "name": "python3"
  },
  "language_info": {
   "codemirror_mode": {
    "name": "ipython",
    "version": 3
   },
   "file_extension": ".py",
   "mimetype": "text/x-python",
   "name": "python",
   "nbconvert_exporter": "python",
   "pygments_lexer": "ipython3",
   "version": "3.10.0"
  },
  "orig_nbformat": 4
 },
 "nbformat": 4,
 "nbformat_minor": 2
}
